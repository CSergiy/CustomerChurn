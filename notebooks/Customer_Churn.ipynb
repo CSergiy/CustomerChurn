{
 "cells": [
  {
   "cell_type": "markdown",
   "id": "b3349e9a",
   "metadata": {},
   "source": [
    "# Customer Churn"
   ]
  },
  {
   "cell_type": "markdown",
   "id": "3d1a6aff",
   "metadata": {},
   "source": [
    "# Table of Contents\n",
    "\n",
    "- [Problem Statement](#Problem-Statement)\n",
    "- [Imports](#Imports)\n",
    "- [Data Loading](#Data-Loading)\n",
    "- [Data Merging](#Data-Merging)\n",
    "- [Data Cleaning](#Data-Cleaning)\n",
    "- [Exploratory Data Analysis (EDA)](#Exploratory-Data-Analysis-\\(EDA\\))\n",
    "  - [Data Overview](#Data-Overview)\n",
    "  - [Null/NaN Values](#Null/NaN-Values)\n",
    "  - [Data Visualization](#Data-Visualization)\n",
    "- [Data Preprocessing](#Data-Preprocessing)\n",
    "  - [Categorical to Numerical Conversion](#Categorical-to-Numerical-Conversion)\n",
    "  - [Visualization of Converted Features](#Visualization-of-Converted-Features)\n",
    "    - [Cluster Map](#Cluster-Map)\n",
    "    - [t-SNE Visualization](#t-SNE-Visualization)\n",
    "- [Preliminary Baseline Model](#Preliminary-Baseline-Model)\n",
    "- [Advanced Model Development](#Advanced-Model-Development)\n",
    "  - [Feature Engineering and Selection](#Feature-Engineering-and-Selection)\n",
    "    - [Feature Importance Analysis](#Feature-Importance-Analysis)\n",
    "    - [Feature Selection](#Feature-Selection)\n",
    "    - [Dimensionality Reduction](#Dimensionality-Reduction)\n",
    "  - [Handling Class Imbalance](#Handling-Class-Imbalance)\n",
    "  - [Model Comparisons](#Model-Comparisons)\n",
    "  - [Model Tuning](#Model-Tuning)\n",
    "- [Model Evaluation](#Model-Evaluation)\n",
    "- [Conclusion](#Conclusion)"
   ]
  },
  {
   "cell_type": "markdown",
   "id": "7236564c",
   "metadata": {},
   "source": [
    "# Problem Statement"
   ]
  },
  {
   "cell_type": "markdown",
   "id": "c4f8ced2",
   "metadata": {},
   "source": [
    "Customer churn is a significant concern for any business, especially in the telecommunications industry. Churn rate can significantly impact a company's revenue and market share. In this project, we are working with a dataset from a fictional telecommunications company - Telco. The data represents the information about 7043 customers in California for Q3, including those who left, stayed, or signed up for the service.\n",
    "\n",
    "The aim of this project is to understand and predict customer churn, i.e., identify the factors that lead to customer churn and use this understanding to predict whether a customer is likely to churn in the future. These insights will help the company in developing effective customer retention strategies and enhance customer satisfaction.\n",
    "\n",
    "To conduct this analysis, we are provided with multiple data points for each customer, including but not limited to demographics, location, services used, customer satisfaction score, churn score, and Customer Lifetime Value (CLTV).\n",
    "\n",
    "The Telco data module comprises five main categories:\n",
    "\n",
    "1. Demographics - Customer's unique ID, gender, age, marital status, dependents, etc.\n",
    "2. Location - Details about the customer's primary residence.\n",
    "3. Population - Estimated population of the customer's zip code area.\n",
    "4. Services - Details about the services a customer is using and their billing information.\n",
    "5. Status - This includes customer satisfaction score, churn label, churn value, churn score, CLTV, and reason for churn if applicable."
   ]
  },
  {
   "cell_type": "markdown",
   "id": "6a9c4e28",
   "metadata": {},
   "source": [
    "# Imports"
   ]
  },
  {
   "cell_type": "code",
   "execution_count": null,
   "id": "b8a1f27f",
   "metadata": {},
   "outputs": [],
   "source": [
    "import pandas as pd\n",
    "import os\n",
    "import matplotlib.pyplot as plt\n",
    "import seaborn as sns\n",
    "import numpy as np\n",
    "\n",
    "from sklearn.manifold import TSNE\n",
    "\n",
    "from sklearn.model_selection import train_test_split\n",
    "from sklearn.linear_model import LogisticRegression\n",
    "from sklearn.metrics import classification_report, confusion_matrix, accuracy_score\n",
    "from sklearn.preprocessing import StandardScaler"
   ]
  },
  {
   "cell_type": "markdown",
   "id": "f964ff39",
   "metadata": {},
   "source": [
    "# Data Loading"
   ]
  },
  {
   "cell_type": "code",
   "execution_count": null,
   "id": "dba10d7e",
   "metadata": {},
   "outputs": [],
   "source": [
    "os.chdir('..')"
   ]
  },
  {
   "cell_type": "code",
   "execution_count": null,
   "id": "3a723a78",
   "metadata": {},
   "outputs": [],
   "source": [
    "cust_churn = pd.read_excel('data/Telco_customer_churn.xlsx')\n",
    "demo = pd.read_excel('data/Telco_customer_churn_demographics.xlsx')\n",
    "location = pd.read_excel('data/Telco_customer_churn_location.xlsx')\n",
    "population = pd.read_excel('data/Telco_customer_churn_population.xlsx')\n",
    "services = pd.read_excel('data/Telco_customer_churn_services.xlsx')\n",
    "status = pd.read_excel('data/Telco_customer_churn_status.xlsx')\n",
    "churn = pd.read_excel('data/Telco_customer_churn.xlsx')"
   ]
  },
  {
   "cell_type": "markdown",
   "id": "9aa0241f",
   "metadata": {},
   "source": [
    "# Data Merging"
   ]
  },
  {
   "cell_type": "code",
   "execution_count": null,
   "id": "3a873b85",
   "metadata": {},
   "outputs": [],
   "source": [
    "# Combine on Customer ID\n",
    "churn_all = demo.merge(location, on='Customer ID')\n",
    "churn_all = churn_all.merge(services, on='Customer ID')\n",
    "\n",
    "# Include the 'Churn' column and any other relevant columns from the 'status' dataframe.\n",
    "churn_all = churn_all.merge(status, on='Customer ID')"
   ]
  },
  {
   "cell_type": "markdown",
   "id": "dd0d27c9",
   "metadata": {},
   "source": [
    "# Data Cleaning"
   ]
  },
  {
   "cell_type": "code",
   "execution_count": null,
   "id": "092dccd6",
   "metadata": {},
   "outputs": [],
   "source": [
    "# Drop duplicated counts\n",
    "churn_all.drop(['Count_x', 'Count_y'], axis=1, inplace=True)\n",
    "\n",
    "# Drop all uniform columns\n",
    "churn_all.drop(['Country', 'State', 'Quarter_x', 'Quarter_y'], axis=1, inplace=True)\n",
    "\n",
    "# Drop columns that are redundant or unable to be converted to numerics\n",
    "churn_all.drop(['Location ID', 'Service ID', 'Customer ID', 'Lat Long', 'City', 'Status ID'], axis=1, inplace=True)"
   ]
  },
  {
   "cell_type": "markdown",
   "id": "c6205e58",
   "metadata": {},
   "source": [
    "# Exploratory Data Analysis (EDA)"
   ]
  },
  {
   "cell_type": "markdown",
   "id": "91d014a0",
   "metadata": {},
   "source": [
    "## Data Overview"
   ]
  },
  {
   "cell_type": "code",
   "execution_count": null,
   "id": "dfaeae65",
   "metadata": {},
   "outputs": [],
   "source": [
    "# Print the shape of the dataframe\n",
    "print('Number of rows: ', churn_all.shape[0])\n",
    "print('Number of columns: ', churn_all.shape[1])"
   ]
  },
  {
   "cell_type": "code",
   "execution_count": null,
   "id": "4eae80d6",
   "metadata": {},
   "outputs": [],
   "source": [
    "# Look at first 5 rows\n",
    "churn_all.head()"
   ]
  },
  {
   "cell_type": "code",
   "execution_count": null,
   "id": "eccf06d6",
   "metadata": {},
   "outputs": [],
   "source": [
    "# Summary of the dataframe\n",
    "churn_all.info()"
   ]
  },
  {
   "cell_type": "code",
   "execution_count": null,
   "id": "256cb686",
   "metadata": {},
   "outputs": [],
   "source": [
    "# Summary statistics for numerical columns\n",
    "churn_all.describe()"
   ]
  },
  {
   "cell_type": "markdown",
   "id": "919d0027",
   "metadata": {},
   "source": [
    "## Null/NaN Values"
   ]
  },
  {
   "cell_type": "code",
   "execution_count": null,
   "id": "f5c55db5",
   "metadata": {},
   "outputs": [],
   "source": [
    "# Check for missing values\n",
    "missing_values = churn_all.isnull().sum()\n",
    "print('Missing values per column:\\n', missing_values[missing_values > 0])"
   ]
  },
  {
   "cell_type": "markdown",
   "id": "fbb5bac0",
   "metadata": {},
   "source": [
    "Looking into Churn Category & Churn Reason.\n",
    "\n",
    "***Assumption***: 5174 cases of no churn (custom has not left), therefore it is NaN."
   ]
  },
  {
   "cell_type": "code",
   "execution_count": null,
   "id": "c2dbc1de",
   "metadata": {},
   "outputs": [],
   "source": [
    "# Subset the data where 'Churn Category' and 'Churn Reason' are null\n",
    "missing_churn_info = churn_all[churn_all['Churn Category'].isnull() & churn_all['Churn Reason'].isnull()]\n",
    "\n",
    "# Check the 'Churn Label' column of this subset\n",
    "churn_labels_in_missing = missing_churn_info['Churn Label'].value_counts()\n",
    "\n",
    "print(churn_labels_in_missing)"
   ]
  },
  {
   "cell_type": "markdown",
   "id": "9187e030",
   "metadata": {},
   "source": [
    "***Assumption is confirmed.***\n",
    "\n",
    "All instances of Null/NaN (being in Churn Category and Churn Reason columns) are where the Churn Label is 'No', therefore, the customer has not churned. \n",
    "\n",
    "To fix this, we will impute another category into Churn Category and Churn Reason, for instances of NaN's,\n",
    "\n",
    "***Churn Category*** will be called ***'Retention'***\n",
    "\n",
    "***Churn Reason*** will be called ***'Customer Retained'***"
   ]
  },
  {
   "cell_type": "code",
   "execution_count": null,
   "id": "b09f7f7e",
   "metadata": {},
   "outputs": [],
   "source": [
    "churn_all['Churn Category'].fillna('Retention', inplace=True)\n",
    "churn_all['Churn Reason'].fillna('Customer Retained', inplace=True)"
   ]
  },
  {
   "cell_type": "markdown",
   "id": "bfe75654",
   "metadata": {},
   "source": [
    "## Data Visualization"
   ]
  },
  {
   "cell_type": "code",
   "execution_count": null,
   "id": "edbabdf8",
   "metadata": {
    "scrolled": false
   },
   "outputs": [],
   "source": [
    "# Histogram of the target variable\n",
    "sns.histplot(churn_all['Churn Label'])"
   ]
  },
  {
   "cell_type": "code",
   "execution_count": null,
   "id": "c8e576f2",
   "metadata": {
    "scrolled": false
   },
   "outputs": [],
   "source": [
    "# Bar plots for categorical variables\n",
    "categorical_cols = churn_all.select_dtypes(include=['object']).columns\n",
    "for col in categorical_cols:\n",
    "    plt.figure(figsize=(10,4))\n",
    "    sns.countplot(x=col, data=churn_all)\n",
    "    plt.title(f'Distribution of {col}')\n",
    "    plt.xticks(rotation=90)\n",
    "    plt.show()"
   ]
  },
  {
   "cell_type": "code",
   "execution_count": null,
   "id": "0653fb52",
   "metadata": {},
   "outputs": [],
   "source": [
    "# Correlation heatmap for numerical variables\n",
    "numerical_cols = churn_all.select_dtypes(include=['int64', 'float64']).columns\n",
    "plt.figure(figsize=(12,10))\n",
    "sns.heatmap(churn_all[numerical_cols].corr(), annot=True, cmap='coolwarm')\n",
    "plt.title('Correlation heatmap')\n",
    "plt.show()"
   ]
  },
  {
   "cell_type": "markdown",
   "id": "ff7ec3e0",
   "metadata": {},
   "source": [
    "# Preliminary Baseline Model"
   ]
  },
  {
   "cell_type": "markdown",
   "id": "023c45b2",
   "metadata": {},
   "source": [
    "## Selecting 'Satisfaction Score' as a Single Feature for Baseline Model"
   ]
  },
  {
   "cell_type": "markdown",
   "id": "75f5cb99",
   "metadata": {},
   "source": [
    "In this section, we will build a preliminary baseline model using the feature that's most highly correlated with our target variable, `Churn Value`. The feature we'll use is `Satisfaction Score`. \n",
    "\n",
    "By starting with a simple model, we can establish a baseline level of performance to compare with more complex models that we'll build later. "
   ]
  },
  {
   "cell_type": "code",
   "execution_count": null,
   "id": "fb2e1f65",
   "metadata": {},
   "outputs": [],
   "source": [
    "# Modeling\n",
    "predictive_features = ['Satisfaction Score']\n",
    "X = churn_all[predictive_features]\n",
    "y = churn_all['Churn Value']\n",
    "\n",
    "# Divide data into training and test sets\n",
    "X_train, X_test, y_train, y_test = train_test_split(X, y, test_size=0.2, random_state=0)\n",
    "\n",
    "# As the two features are numeric, you don't need to select only numeric columns\n",
    "# But you can keep the scaler part as it is.\n",
    "\n",
    "scaler = StandardScaler()\n",
    "\n",
    "# Fit on training set only.\n",
    "scaler.fit(X_train)\n",
    "\n",
    "# Apply transform to both the training set and the test set.\n",
    "X_train = scaler.transform(X_train)\n",
    "X_test = scaler.transform(X_test)\n",
    "\n",
    "# Fit the model \n",
    "logreg = LogisticRegression(max_iter=500)\n",
    "logreg.fit(X_train, y_train)\n",
    "\n",
    "# Predict the labels of the test set\n",
    "y_pred = logreg.predict(X_test)"
   ]
  },
  {
   "cell_type": "markdown",
   "id": "23e27dfc",
   "metadata": {},
   "source": [
    "After fitting the model, we'll look at the classification report, confusion matrix, and accuracy score to evaluate how well our model performed."
   ]
  },
  {
   "cell_type": "markdown",
   "id": "568ae49e",
   "metadata": {},
   "source": [
    "## Model Evaluation"
   ]
  },
  {
   "cell_type": "code",
   "execution_count": null,
   "id": "69b5e9a6",
   "metadata": {},
   "outputs": [],
   "source": [
    "# Print classification report\n",
    "print(classification_report(y_test, y_pred))"
   ]
  },
  {
   "cell_type": "code",
   "execution_count": null,
   "id": "9b68af6a",
   "metadata": {},
   "outputs": [],
   "source": [
    "# Print confusion matrix\n",
    "print(confusion_matrix(y_test, y_pred))"
   ]
  },
  {
   "cell_type": "code",
   "execution_count": null,
   "id": "757a7c5e",
   "metadata": {},
   "outputs": [],
   "source": [
    "# Print accuracy score\n",
    "print('Accuracy score: ', accuracy_score(y_test, y_pred))"
   ]
  },
  {
   "cell_type": "markdown",
   "id": "71c50a62",
   "metadata": {},
   "source": [
    "### Classification Report\n",
    "\n",
    "- Precision: When our model predicts a customer will churn (1) or not churn (0), it's correct 100% and 92% of the time, respectively. This indicates our model is quite reliable when it predicts churn.\n",
    "  \n",
    "- Recall: For the actual churn cases, our model is able to correctly identify 77% of them. However, for the non-churn cases, our model identifies them perfectly (100%). This suggests that our model might be better at identifying non-churn cases than churn cases.\n",
    "\n",
    "- F1-score: The F1-score is the harmonic mean of precision and recall. The closer to 1, the better. Our model has an F1-score of 0.87 for churn cases (1) and 0.96 for non-churn cases (0). This reinforces the idea that our model is slightly better at predicting non-churn cases.\n",
    "\n",
    "- Accuracy: The accuracy of our model is 94%, which suggests that it correctly predicted the churn status of customers 94% of the time. This is a good sign of our model's overall effectiveness."
   ]
  },
  {
   "cell_type": "markdown",
   "id": "2a3f976d",
   "metadata": {},
   "source": [
    "### Confusion Matrix\n",
    "\n",
    "The confusion matrix gives us a more granular view of the model's performance:\n",
    "\n",
    "- True negatives (top-left square): The model correctly predicted that 1036 customers would not churn.\n",
    "- False negatives (bottom-left square): The model incorrectly predicted that 87 customers would not churn, but they actually did.\n",
    "- True positives (bottom-right square): The model correctly predicted that 286 customers would churn.\n",
    "- False positives (top-right square): The model predicted that no customers would churn when they actually did not, hence no false positives.\n",
    "\n",
    "Our model seems to have some difficulty in detecting customers who are going to churn, as indicated by the number of false negatives."
   ]
  },
  {
   "cell_type": "markdown",
   "id": "e59e13a2",
   "metadata": {},
   "source": [
    "### Accuracy Score\n",
    "\n",
    "Finally, the overall accuracy of our model is about 93.8%. This score is consistent with the accuracy metric from the classification report and confirms that our model performs well.\n",
    "\n",
    "However, despite its good overall accuracy, we might want to try to improve its performance on predicting churn customers, which currently stands at 77% (recall for churn). This could involve including more features in our model, tweaking the model's parameters, or trying different algorithms. "
   ]
  },
  {
   "cell_type": "markdown",
   "id": "fa012ecd",
   "metadata": {},
   "source": [
    "# Data Preprocessing"
   ]
  },
  {
   "cell_type": "markdown",
   "id": "7acb199d",
   "metadata": {},
   "source": [
    "## Categorical to Numerical Conversion"
   ]
  },
  {
   "cell_type": "code",
   "execution_count": null,
   "id": "8596fd3f",
   "metadata": {},
   "outputs": [],
   "source": [
    "# Convert No/Yes to 0/1\n",
    "churn_all['Under 30'] = churn_all['Under 30'].map(dict(Yes=1, No=0))\n",
    "churn_all['Senior Citizen'] = churn_all['Senior Citizen'].map(dict(Yes=1, No=0))\n",
    "churn_all['Married'] = churn_all['Married'].map(dict(Yes=1, No=0))\n",
    "churn_all['Dependents'] = churn_all['Dependents'].map(dict(Yes=1, No=0))\n",
    "churn_all['Referred a Friend'] = churn_all['Referred a Friend'].map(dict(Yes=1, No=0))\n",
    "churn_all['Multiple Lines'] = churn_all['Multiple Lines'].map(dict(Yes=1, No=0))\n",
    "churn_all['Internet Service'] = churn_all['Internet Service'].map(dict(Yes=1, No=0))\n",
    "churn_all['Online Security'] = churn_all['Online Security'].map(dict(Yes=1, No=0))\n",
    "churn_all['Online Backup'] = churn_all['Online Backup'].map(dict(Yes=1, No=0))\n",
    "churn_all['Device Protection Plan'] = churn_all['Device Protection Plan'].map(dict(Yes=1, No=0))\n",
    "churn_all['Premium Tech Support'] = churn_all['Premium Tech Support'].map(dict(Yes=1, No=0))\n",
    "churn_all['Streaming TV'] = churn_all['Streaming TV'].map(dict(Yes=1, No=0))\n",
    "churn_all['Streaming Movies'] = churn_all['Streaming Movies'].map(dict(Yes=1, No=0))\n",
    "churn_all['Streaming Music'] = churn_all['Streaming Music'].map(dict(Yes=1, No=0))\n",
    "churn_all['Unlimited Data'] = churn_all['Unlimited Data'].map(dict(Yes=1, No=0))\n",
    "churn_all['Paperless Billing'] = churn_all['Paperless Billing'].map(dict(Yes=1, No=0))\n",
    "churn_all['Churn Label'] = churn_all['Churn Label'].map(dict(Yes=1, No=0))\n",
    "\n",
    "# Convert Gender to a Binary\n",
    "churn_all['Gender'] = churn_all['Gender'].map(dict(Female=1, Male=0))"
   ]
  },
  {
   "cell_type": "code",
   "execution_count": null,
   "id": "32defe32",
   "metadata": {},
   "outputs": [],
   "source": [
    "# One Hot Encode categoricals (They are not numerically sound)\n",
    "churn_all = pd.get_dummies(churn_all, columns=['Offer','Phone Service', 'Internet Type', 'Contract', 'Payment Method', 'Customer Status', 'Churn Category', 'Churn Reason'])"
   ]
  },
  {
   "cell_type": "markdown",
   "id": "51fd3be3",
   "metadata": {},
   "source": [
    "Checking if all objects are converted to numericals"
   ]
  },
  {
   "cell_type": "code",
   "execution_count": null,
   "id": "19ab6e03",
   "metadata": {},
   "outputs": [],
   "source": [
    "if churn_all.select_dtypes(include=['object']).shape[1] == 0:\n",
    "    print(\"All object columns successfully converted to numerics!\")\n",
    "else:\n",
    "    print(\"Some object columns are still not converted.\")"
   ]
  },
  {
   "cell_type": "code",
   "execution_count": null,
   "id": "684a9a55",
   "metadata": {},
   "outputs": [],
   "source": [
    "# Drop columns that are derivatives or identical to target variable (churn value)\n",
    "churn_all = churn_all.drop(['Churn Label', 'Customer Status_Churned', 'Churn Reason_Customer Retained', 'Churn Category_Retention'], axis=1)"
   ]
  },
  {
   "cell_type": "code",
   "execution_count": null,
   "id": "578d0df9",
   "metadata": {},
   "outputs": [],
   "source": [
    "churn_all.info()"
   ]
  },
  {
   "cell_type": "markdown",
   "id": "f7ddd572",
   "metadata": {},
   "source": [
    "## Visualization of Converted Features"
   ]
  },
  {
   "cell_type": "markdown",
   "id": "642eccee",
   "metadata": {},
   "source": [
    "### Cluster Map"
   ]
  },
  {
   "cell_type": "markdown",
   "id": "33390d1c",
   "metadata": {},
   "source": [
    "Cluster Map to visualize the objects now converted to numerics and their correlation with other columns"
   ]
  },
  {
   "cell_type": "code",
   "execution_count": null,
   "id": "68e2e06c",
   "metadata": {},
   "outputs": [],
   "source": [
    "sns.clustermap(churn_all.corr(), annot=False, cmap='coolwarm', figsize=(15,15))"
   ]
  },
  {
   "cell_type": "markdown",
   "id": "08673063",
   "metadata": {},
   "source": [
    "The cluster map visually represents correlation values amongst the various columns in the dataset. On observing this representation, we notice a few interesting aspects:\n",
    "\n",
    "1. **Lack of Individual Strong Indicators:** It's noteworthy that none of the other features form a close cluster with the churn-related features. This observation suggests that no single feature is a strong determinant of churn. It likely reflects the multifaceted nature of customer behavior, where a combination of various features might influence a customer's decision to churn or not.\n",
    "\n",
    "2. **Hierarchical Clustering (Dendrogram):** The tree-like structure seen at the top and left of the cluster map is known as a dendrogram. This structure shows a hierarchical clustering of features based on their correlation. The features with higher correlation are grouped together.\n",
    "\n",
    "3. **Churn Related Features:** The features 'Churn Reason_Competitor made better offer' and 'Churn Reason_Competitor had better devices' are much closer related to churn value than the other churn reasons.\n",
    "\n",
    "This exploration provides valuable insights about the correlation and potential relationships amongst different features. However, the predictive importance of these features will be better understood when we fit and evaluate a machine learning model. This process will provide a more quantitative measure of feature importance in the context of predicting customer churn.\n"
   ]
  },
  {
   "cell_type": "markdown",
   "id": "70230d85",
   "metadata": {},
   "source": [
    "### t-SNE Visualization"
   ]
  },
  {
   "cell_type": "code",
   "execution_count": null,
   "id": "72761e50",
   "metadata": {},
   "outputs": [],
   "source": [
    "X = churn_all.drop(['Churn Value'], axis=1) \n",
    "y = churn_all['Churn Value']"
   ]
  },
  {
   "cell_type": "code",
   "execution_count": null,
   "id": "8787582f",
   "metadata": {},
   "outputs": [],
   "source": [
    "# Fit and transform X to visualizable lower dimensions\n",
    "transformed = TSNE(n_components=2, random_state=0, perplexity=200, learning_rate=700).fit_transform(X)"
   ]
  },
  {
   "cell_type": "code",
   "execution_count": null,
   "id": "0c67ca88",
   "metadata": {},
   "outputs": [],
   "source": [
    "# Plot\n",
    "plt.figure(figsize=(12,10))\n",
    "\n",
    "scatter = plt.scatter(transformed[:,0], transformed[:,1], c=y, alpha=0.2, cmap='bwr') # 'bwr' is blue-white-red palette\n",
    "plt.title('t-SNE visualization of churn data')\n",
    "\n",
    "# Create a colorbar\n",
    "cbar = plt.colorbar(scatter, ticks=[0,1])\n",
    "cbar.set_label('Churn Value')\n",
    "cbar.set_ticklabels(['Not Churn', 'Churn']) # 0 is \"Not Churn\", 1 is \"Churn\"\n",
    "\n",
    "plt.show()"
   ]
  },
  {
   "cell_type": "markdown",
   "id": "ce8e2fa5",
   "metadata": {},
   "source": [
    "The t-SNE visualization above illustrates a high-dimensional churn dataset projected into a two-dimensional space. This graphical representation allows us to examine the relationship and potential clusters among customers based on their churn status. Our dataset contains 7043 records, out of which 5174 customers have not churned ('Not Churn').\n",
    "\n",
    "While there are discernible patterns in the data, it is important to note that the visualization does not exhibit a clear and distinct separation between the 'Churn' and 'Not Churn' classes. 'Not Churn' instances are widely scattered throughout the plot, signifying a diverse set of attributes among customers who did not churn.\n",
    "\n",
    "In comparison, the 'Churn' points seem to display a slightly more coherent structure, as most of these points tend to be concentrated below the 0 point on the x-axis. This could potentially suggest that the attributes of churned customers share some similarities, thus exhibiting a denser clustering in that specific region.\n",
    "\n",
    "Despite this, it is evident that the 'Churn' instances are not exclusively confined to that area and are still dispersed across the plot. This highlights the complex and multi-faceted nature of customer churn, hinting at the presence of multiple factors that could lead to a customer's decision to leave the service.\n",
    "\n",
    "This data visualization underscores the potential feasibility of predicting customer churn using machine learning algorithms. Nonetheless, the overlap between 'Churn' and 'Not Churn' instances suggests that achieving high predictive accuracy may be challenging due to the inherent intricacies in customer behavior. Hence, it is essential to further explore the data and refine our prediction model for improved outcomes."
   ]
  },
  {
   "cell_type": "markdown",
   "id": "947dd291",
   "metadata": {},
   "source": [
    "# Refined Model Development"
   ]
  },
  {
   "cell_type": "markdown",
   "id": "1d429506",
   "metadata": {},
   "source": [
    "## Feature Engineering and Selection"
   ]
  },
  {
   "cell_type": "markdown",
   "id": "c0beb155",
   "metadata": {},
   "source": [
    "### Feature Importance Analysis"
   ]
  },
  {
   "cell_type": "markdown",
   "id": "13ef698e",
   "metadata": {},
   "source": [
    "### Feature Selection"
   ]
  },
  {
   "cell_type": "markdown",
   "id": "7c28b4ba",
   "metadata": {},
   "source": [
    "### Dimensionality Reduction"
   ]
  },
  {
   "cell_type": "markdown",
   "id": "b34adad0",
   "metadata": {},
   "source": [
    "## Handling Class Imbalance"
   ]
  },
  {
   "cell_type": "markdown",
   "id": "654726c0",
   "metadata": {},
   "source": [
    "## Model Comparisons"
   ]
  },
  {
   "cell_type": "markdown",
   "id": "4b79c866",
   "metadata": {},
   "source": [
    "## Model Tuning"
   ]
  },
  {
   "cell_type": "markdown",
   "id": "5db945dc",
   "metadata": {},
   "source": [
    "# Model Evaluation"
   ]
  },
  {
   "cell_type": "markdown",
   "id": "2ee3269d",
   "metadata": {},
   "source": [
    "# Conclusion"
   ]
  }
 ],
 "metadata": {
  "kernelspec": {
   "display_name": "Python 3 (ipykernel)",
   "language": "python",
   "name": "python3"
  },
  "language_info": {
   "codemirror_mode": {
    "name": "ipython",
    "version": 3
   },
   "file_extension": ".py",
   "mimetype": "text/x-python",
   "name": "python",
   "nbconvert_exporter": "python",
   "pygments_lexer": "ipython3",
   "version": "3.10.9"
  },
  "toc": {
   "base_numbering": 1,
   "nav_menu": {},
   "number_sections": true,
   "sideBar": true,
   "skip_h1_title": false,
   "title_cell": "Table of Contents",
   "title_sidebar": "Contents",
   "toc_cell": false,
   "toc_position": {},
   "toc_section_display": true,
   "toc_window_display": false
  }
 },
 "nbformat": 4,
 "nbformat_minor": 5
}
