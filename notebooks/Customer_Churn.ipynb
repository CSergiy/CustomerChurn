{
 "cells": [
  {
   "cell_type": "markdown",
   "id": "83dd22e9",
   "metadata": {},
   "source": [
    "# Customer Churn"
   ]
  },
  {
   "cell_type": "markdown",
   "id": "d8cd36ca",
   "metadata": {},
   "source": [
    "## Table of Contents\n",
    "\n",
    "- [Problem Statement](#Problem-Statement)\n",
    "- [Imports](#Imports)\n",
    "- [Data Loading](#Data-Loading)\n",
    "- [Exploratory Data Analysis (EDA)](#Exploratory-Data-Analysis-\\(EDA\\))\n",
    "  - [Data Overview](#Data-Overview)\n",
    "  - [Null/NaN Values](#Null/NaN-Values)\n",
    "  - [Data Visualization](#Data-Visualization)\n",
    "- [Preliminary Baseline Model](#Preliminary-Baseline-Model)\n",
    "  - [Data Preprocessing](#Data-Preprocessing)\n",
    "  - [Modeling](#Modeling)\n",
    "- [Feature Engineering and Selection](#Feature-Engineering-and-Selection)\n",
    "  - [Feature Importance Analysis](#Feature-Importance-Analysis)\n",
    "  - [Feature Selection](#Feature-Selection)\n",
    "  - [Dimensionality Reduction](#Dimensionality-Reduction)\n",
    "- [Handling Class Imbalance (if any)](#Handling-Class-Imbalance-\\(if-any\\))\n",
    "- [Model Comparisons](#Model-Comparisons)\n",
    "- [Model Tuning](#Model-Tuning)\n",
    "- [Model Evaluation](#Model-Evaluation)\n",
    "- [Conclusion](#Conclusion)"
   ]
  },
  {
   "cell_type": "markdown",
   "id": "3d099fa7",
   "metadata": {},
   "source": [
    "# Problem Statement"
   ]
  },
  {
   "cell_type": "markdown",
   "id": "c304a044",
   "metadata": {},
   "source": [
    "# Imports"
   ]
  },
  {
   "cell_type": "code",
   "execution_count": 1,
   "id": "b69e73b1",
   "metadata": {},
   "outputs": [],
   "source": [
    "import pandas as pd\n",
    "import os\n",
    "import matplotlib.pyplot as plt"
   ]
  },
  {
   "cell_type": "markdown",
   "id": "37e4d15a",
   "metadata": {},
   "source": [
    "# Data Loading"
   ]
  },
  {
   "cell_type": "code",
   "execution_count": 2,
   "id": "0d297a90",
   "metadata": {},
   "outputs": [],
   "source": [
    "os.chdir('..')"
   ]
  },
  {
   "cell_type": "code",
   "execution_count": 3,
   "id": "b8a3950d",
   "metadata": {},
   "outputs": [],
   "source": [
    "cust_churn = pd.read_excel('data/CustomerChurn.xlsx')\n",
    "demo = pd.read_excel('data/Telco_customer_churn_demographics.xlsx')\n",
    "location = pd.read_excel('data/Telco_customer_churn_location.xlsx')\n",
    "population = pd.read_excel('data/Telco_customer_churn_population.xlsx')\n",
    "services = pd.read_excel('data/Telco_customer_churn_services.xlsx')\n",
    "status = pd.read_excel('data/Telco_customer_churn_status.xlsx')\n",
    "churn = pd.read_excel('data/Telco_customer_churn.xlsx')"
   ]
  },
  {
   "cell_type": "markdown",
   "id": "13e7c736",
   "metadata": {},
   "source": [
    "# Exploratory Data Analysis (EDA)"
   ]
  },
  {
   "cell_type": "markdown",
   "id": "63547113",
   "metadata": {},
   "source": [
    "## Data Overview"
   ]
  },
  {
   "cell_type": "markdown",
   "id": "cb78ab49",
   "metadata": {},
   "source": [
    "## Null/NaN Values"
   ]
  },
  {
   "cell_type": "markdown",
   "id": "bbad0481",
   "metadata": {},
   "source": [
    "## Data Visualization"
   ]
  },
  {
   "cell_type": "markdown",
   "id": "a380db58",
   "metadata": {},
   "source": [
    "# Preliminary Baseline Model"
   ]
  },
  {
   "cell_type": "markdown",
   "id": "39015318",
   "metadata": {},
   "source": [
    "## Data Preprocessing"
   ]
  },
  {
   "cell_type": "markdown",
   "id": "19a23d04",
   "metadata": {},
   "source": [
    "## Modeling"
   ]
  },
  {
   "cell_type": "markdown",
   "id": "9ffeec30",
   "metadata": {},
   "source": [
    "# Feature Engineering and Selection"
   ]
  },
  {
   "cell_type": "markdown",
   "id": "349c51b9",
   "metadata": {},
   "source": [
    "## Feature Importance Analysis"
   ]
  },
  {
   "cell_type": "markdown",
   "id": "af284cc1",
   "metadata": {},
   "source": [
    "## Feature Selection"
   ]
  },
  {
   "cell_type": "markdown",
   "id": "dac1f1da",
   "metadata": {},
   "source": [
    "## Dimensionality Reduction"
   ]
  },
  {
   "cell_type": "markdown",
   "id": "c88ccb13",
   "metadata": {},
   "source": [
    "# Handling Class Imbalance"
   ]
  },
  {
   "cell_type": "markdown",
   "id": "802d0086",
   "metadata": {},
   "source": [
    "# Model Comparisons"
   ]
  },
  {
   "cell_type": "markdown",
   "id": "52ba8650",
   "metadata": {},
   "source": [
    "# Model Tuning"
   ]
  },
  {
   "cell_type": "markdown",
   "id": "3842399b",
   "metadata": {},
   "source": [
    "# Model Evaluation"
   ]
  },
  {
   "cell_type": "markdown",
   "id": "9f67c0f2",
   "metadata": {},
   "source": [
    "# Conclusion"
   ]
  },
  {
   "cell_type": "markdown",
   "id": "2a6ab613",
   "metadata": {},
   "source": []
  },
  {
   "cell_type": "markdown",
   "id": "dd2e6a45",
   "metadata": {},
   "source": []
  },
  {
   "cell_type": "markdown",
   "id": "d4ed7ee8",
   "metadata": {},
   "source": []
  },
  {
   "cell_type": "markdown",
   "id": "7454dddc",
   "metadata": {},
   "source": []
  }
 ],
 "metadata": {
  "kernelspec": {
   "display_name": "Python 3 (ipykernel)",
   "language": "python",
   "name": "python3"
  },
  "language_info": {
   "codemirror_mode": {
    "name": "ipython",
    "version": 3
   },
   "file_extension": ".py",
   "mimetype": "text/x-python",
   "name": "python",
   "nbconvert_exporter": "python",
   "pygments_lexer": "ipython3",
   "version": "3.10.9"
  },
  "toc": {
   "base_numbering": 1,
   "nav_menu": {},
   "number_sections": true,
   "sideBar": true,
   "skip_h1_title": false,
   "title_cell": "Table of Contents",
   "title_sidebar": "Contents",
   "toc_cell": false,
   "toc_position": {},
   "toc_section_display": true,
   "toc_window_display": false
  }
 },
 "nbformat": 4,
 "nbformat_minor": 5
}
