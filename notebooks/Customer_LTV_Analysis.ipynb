{
 "cells": [
  {
   "cell_type": "markdown",
   "id": "52add407-a5ec-42ad-b7bd-43ecf6128e7a",
   "metadata": {},
   "source": [
    "# Customer Lifetime Value Analysis\n",
    "What makes customers have a higher lifetime value? How can we increase customer lifetime value?"
   ]
  },
  {
   "cell_type": "code",
   "execution_count": 5,
   "id": "57a5677b-86b2-46e3-bc62-cedbf4159e89",
   "metadata": {
    "tags": []
   },
   "outputs": [],
   "source": [
    "import pandas as pd\n",
    "import os\n",
    "import matplotlib.pyplot as plt"
   ]
  },
  {
   "cell_type": "code",
   "execution_count": 7,
   "id": "478c1a67-8304-4fa4-9ecd-b1e4f679a6b8",
   "metadata": {
    "tags": []
   },
   "outputs": [
    {
     "data": {
      "text/plain": [
       "'/Users/thevoid/Documents/GitHub/CustomerChurn'"
      ]
     },
     "execution_count": 7,
     "metadata": {},
     "output_type": "execute_result"
    }
   ],
   "source": [
    "os.chdir('..')"
   ]
  },
  {
   "cell_type": "code",
   "execution_count": 9,
   "id": "5a030244-2ea6-46ed-bc8d-cae27e9c208d",
   "metadata": {
    "tags": []
   },
   "outputs": [],
   "source": [
    "cust_churn = pd.read_excel('data/CustomerChurn.xlsx')\n",
    "demo = pd.read_excel('data/Telco_customer_churn_demographics.xlsx')\n",
    "location = pd.read_excel('data/Telco_customer_churn_location.xlsx')\n",
    "population = pd.read_excel('data/Telco_customer_churn_population.xlsx')\n",
    "services = pd.read_excel('data/Telco_customer_churn_services.xlsx')\n",
    "status = pd.read_excel('data/Telco_customer_churn_status.xlsx')\n",
    "churn = pd.read_excel('data/Telco_customer_churn.xlsx')"
   ]
  },
  {
   "cell_type": "code",
   "execution_count": null,
   "id": "b25ecb80-cdf1-413d-8dc4-894bfc270797",
   "metadata": {},
   "outputs": [],
   "source": []
  }
 ],
 "metadata": {
  "kernelspec": {
   "display_name": "Python 3 (ipykernel)",
   "language": "python",
   "name": "python3"
  },
  "language_info": {
   "codemirror_mode": {
    "name": "ipython",
    "version": 3
   },
   "file_extension": ".py",
   "mimetype": "text/x-python",
   "name": "python",
   "nbconvert_exporter": "python",
   "pygments_lexer": "ipython3",
   "version": "3.9.16"
  }
 },
 "nbformat": 4,
 "nbformat_minor": 5
}
