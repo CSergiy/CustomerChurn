{
 "cells": [
  {
   "cell_type": "markdown",
   "id": "52add407-a5ec-42ad-b7bd-43ecf6128e7a",
   "metadata": {},
   "source": [
    "# Customer Lifetime Value Analysis\n",
    "What makes customers have a higher lifetime value? How can we increase customer lifetime value?"
   ]
  },
  {
   "cell_type": "code",
   "execution_count": 36,
   "id": "57a5677b-86b2-46e3-bc62-cedbf4159e89",
   "metadata": {
    "tags": []
   },
   "outputs": [],
   "source": [
    "import pandas as pd\n",
    "import os\n",
    "import matplotlib.pyplot as plt\n",
    "import seaborn as sns"
   ]
  },
  {
   "cell_type": "code",
   "execution_count": 7,
   "id": "478c1a67-8304-4fa4-9ecd-b1e4f679a6b8",
   "metadata": {
    "tags": []
   },
   "outputs": [
    {
     "data": {
      "text/plain": [
       "'/Users/thevoid/Documents/GitHub/CustomerChurn'"
      ]
     },
     "execution_count": 7,
     "metadata": {},
     "output_type": "execute_result"
    }
   ],
   "source": [
    "os.chdir('..')"
   ]
  },
  {
   "cell_type": "code",
   "execution_count": 9,
   "id": "5a030244-2ea6-46ed-bc8d-cae27e9c208d",
   "metadata": {
    "tags": []
   },
   "outputs": [],
   "source": [
    "# Raw Data\n",
    "demo = pd.read_excel('data/Telco_customer_churn_demographics.xlsx')\n",
    "location = pd.read_excel('data/Telco_customer_churn_location.xlsx')\n",
    "services = pd.read_excel('data/Telco_customer_churn_services.xlsx')\n",
    "status = pd.read_excel('data/Telco_customer_churn_status.xlsx')"
   ]
  },
  {
   "cell_type": "code",
   "execution_count": 30,
   "id": "416595cb-f2a2-4a8f-9bcf-61f30a133582",
   "metadata": {
    "tags": []
   },
   "outputs": [
    {
     "name": "stdout",
     "output_type": "stream",
     "text": [
      "<class 'pandas.core.frame.DataFrame'>\n",
      "Int64Index: 7043 entries, 0 to 7042\n",
      "Data columns (total 49 columns):\n",
      " #   Column                             Non-Null Count  Dtype  \n",
      "---  ------                             --------------  -----  \n",
      " 0   Customer ID                        7043 non-null   object \n",
      " 1   Count_x                            7043 non-null   int64  \n",
      " 2   Gender                             7043 non-null   object \n",
      " 3   Age                                7043 non-null   int64  \n",
      " 4   Under 30                           7043 non-null   object \n",
      " 5   Senior Citizen                     7043 non-null   object \n",
      " 6   Married                            7043 non-null   object \n",
      " 7   Dependents                         7043 non-null   object \n",
      " 8   Number of Dependents               7043 non-null   int64  \n",
      " 9   Location ID                        7043 non-null   object \n",
      " 10  Count_y                            7043 non-null   int64  \n",
      " 11  Country                            7043 non-null   object \n",
      " 12  State                              7043 non-null   object \n",
      " 13  City                               7043 non-null   object \n",
      " 14  Zip Code                           7043 non-null   int64  \n",
      " 15  Lat Long                           7043 non-null   object \n",
      " 16  Latitude                           7043 non-null   float64\n",
      " 17  Longitude                          7043 non-null   float64\n",
      " 18  Service ID                         7043 non-null   object \n",
      " 19  Count                              7043 non-null   int64  \n",
      " 20  Quarter                            7043 non-null   object \n",
      " 21  Referred a Friend                  7043 non-null   object \n",
      " 22  Number of Referrals                7043 non-null   int64  \n",
      " 23  Tenure in Months                   7043 non-null   int64  \n",
      " 24  Offer                              7043 non-null   object \n",
      " 25  Phone Service                      7043 non-null   object \n",
      " 26  Avg Monthly Long Distance Charges  7043 non-null   float64\n",
      " 27  Multiple Lines                     7043 non-null   object \n",
      " 28  Internet Service                   7043 non-null   object \n",
      " 29  Internet Type                      7043 non-null   object \n",
      " 30  Avg Monthly GB Download            7043 non-null   int64  \n",
      " 31  Online Security                    7043 non-null   object \n",
      " 32  Online Backup                      7043 non-null   object \n",
      " 33  Device Protection Plan             7043 non-null   object \n",
      " 34  Premium Tech Support               7043 non-null   object \n",
      " 35  Streaming TV                       7043 non-null   object \n",
      " 36  Streaming Movies                   7043 non-null   object \n",
      " 37  Streaming Music                    7043 non-null   object \n",
      " 38  Unlimited Data                     7043 non-null   object \n",
      " 39  Contract                           7043 non-null   object \n",
      " 40  Paperless Billing                  7043 non-null   object \n",
      " 41  Payment Method                     7043 non-null   object \n",
      " 42  Monthly Charge                     7043 non-null   float64\n",
      " 43  Total Charges                      7043 non-null   float64\n",
      " 44  Total Refunds                      7043 non-null   float64\n",
      " 45  Total Extra Data Charges           7043 non-null   int64  \n",
      " 46  Total Long Distance Charges        7043 non-null   float64\n",
      " 47  Total Revenue                      7043 non-null   float64\n",
      " 48  CLTV                               7043 non-null   int64  \n",
      "dtypes: float64(8), int64(11), object(30)\n",
      "memory usage: 2.7+ MB\n"
     ]
    }
   ],
   "source": [
    "# Combine on CustomerID\n",
    "cltv_all = demo.merge(location, on='Customer ID')\n",
    "cltv_all = cltv_all.merge(services, on='Customer ID')\n",
    "cltv_all = cltv_all.merge(status[['Customer ID', 'CLTV']], on='Customer ID')\n",
    "cltv_all.info()"
   ]
  },
  {
   "cell_type": "code",
   "execution_count": 32,
   "id": "99eb99f4-d974-4289-8ca2-cf81de1d1106",
   "metadata": {
    "tags": []
   },
   "outputs": [],
   "source": [
    "# Drop Duplicated Counts\n",
    "cltv_all.drop(['Count', 'Count_x', 'Count_y'], axis=1, inplace=True)"
   ]
  },
  {
   "cell_type": "code",
   "execution_count": null,
   "id": "1db2cff1-1b1a-4377-b88a-a4e8700dc515",
   "metadata": {
    "tags": []
   },
   "outputs": [],
   "source": [
    "# Drop all uniform columns\n",
    "cltv_all.drop(['Country', 'State', 'Quarter'], axis=1, inplace=True)"
   ]
  },
  {
   "cell_type": "code",
   "execution_count": 46,
   "id": "535966e6-5ede-44de-9a95-a45cb68b3432",
   "metadata": {
    "tags": []
   },
   "outputs": [],
   "source": [
    "# Convert No/Yes to 0/1\n",
    "cltv_all['Under 30'] = cltv_all['Under 30'].map(dict(Yes=1, No=0))\n",
    "cltv_all['Senior Citizen'] = cltv_all['Senior Citizen'].map(dict(Yes=1, No=0))\n",
    "cltv_all['Married'] = cltv_all['Married'].map(dict(Yes=1, No=0))\n",
    "cltv_all['Dependents'] = cltv_all['Dependents'].map(dict(Yes=1, No=0))\n",
    "cltv_all['Referred a Friend'] = cltv_all['Referred a Friend'].map(dict(Yes=1, No=0))\n",
    "cltv_all['Phone Service'] = cltv_all['Phone Service'].map(dict(Yes=1, No=0))\n",
    "cltv_all['Multiple Lines'] = cltv_all['Multiple Lines'].map(dict(Yes=1, No=0))\n",
    "cltv_all['Internet Service'] = cltv_all['Internet Service'].map(dict(Yes=1, No=0))\n",
    "cltv_all['Online Security'] = cltv_all['Online Security'].map(dict(Yes=1, No=0))\n",
    "cltv_all['Online Backup'] = cltv_all['Online Backup'].map(dict(Yes=1, No=0))\n",
    "cltv_all['Device Protection Plan'] = cltv_all['Device Protection Plan'].map(dict(Yes=1, No=0))\n",
    "cltv_all['Premium Tech Support'] = cltv_all['Premium Tech Support'].map(dict(Yes=1, No=0))\n",
    "cltv_all['Streaming TV'] = cltv_all['Streaming TV'].map(dict(Yes=1, No=0))\n",
    "cltv_all['Streaming Movies'] = cltv_all['Streaming Movies'].map(dict(Yes=1, No=0))\n",
    "cltv_all['Streaming Music'] = cltv_all['Streaming Music'].map(dict(Yes=1, No=0))\n",
    "cltv_all['Unlimited Data'] = cltv_all['Unlimited Data'].map(dict(Yes=1, No=0))\n",
    "cltv_all['Paperless Billing'] = cltv_all['Paperless Billing'].map(dict(Yes=1, No=0))"
   ]
  },
  {
   "cell_type": "code",
   "execution_count": 48,
   "id": "cff343e7-7c4a-45af-8901-1447d494cdfc",
   "metadata": {
    "tags": []
   },
   "outputs": [],
   "source": [
    "cltv_all['Gender'] = cltv_all['Gender'].map(dict(Female=1, Male=0))"
   ]
  },
  {
   "cell_type": "code",
   "execution_count": null,
   "id": "644c9226-2d97-43fc-b7de-8916ddf4ec92",
   "metadata": {},
   "outputs": [],
   "source": []
  }
 ],
 "metadata": {
  "kernelspec": {
   "display_name": "Python 3 (ipykernel)",
   "language": "python",
   "name": "python3"
  },
  "language_info": {
   "codemirror_mode": {
    "name": "ipython",
    "version": 3
   },
   "file_extension": ".py",
   "mimetype": "text/x-python",
   "name": "python",
   "nbconvert_exporter": "python",
   "pygments_lexer": "ipython3",
   "version": "3.9.16"
  }
 },
 "nbformat": 4,
 "nbformat_minor": 5
}
